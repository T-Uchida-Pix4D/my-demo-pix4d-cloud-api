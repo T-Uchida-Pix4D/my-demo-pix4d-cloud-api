{
 "cells": [
  {
   "cell_type": "code",
   "execution_count": null,
   "id": "cc4c5f98",
   "metadata": {},
   "outputs": [],
   "source": [
    "import os\n",
    "import boto3\n",
    "from progressbar import ProgressBar\n",
    "from random import randint\n",
    "from pathlib import Path, PurePosixPath\n",
    "from common.pix4d_libs import get_jwt, create_project, project_s3_creds, register_images, start_processing, get_project"
   ]
  },
  {
   "cell_type": "code",
   "execution_count": null,
   "id": "1034a27a",
   "metadata": {},
   "outputs": [],
   "source": [
    "PIX4D_CLIENT_ID = os.environ['PIX4D_CLIENT_ID']\n",
    "PIX4D_CLIENT_SECRET = os.environ['PIX4D_CLIENT_SECRET']\n",
    "assert PIX4D_CLIENT_ID\n",
    "assert PIX4D_CLIENT_SECRET"
   ]
  },
  {
   "cell_type": "code",
   "execution_count": null,
   "id": "b4a81431",
   "metadata": {},
   "outputs": [],
   "source": [
    "# Get access token\n",
    "my_jwt = get_jwt(PIX4D_CLIENT_ID, PIX4D_CLIENT_SECRET)\n",
    "print(my_jwt)"
   ]
  },
  {
   "cell_type": "code",
   "execution_count": null,
   "id": "8cb119fc",
   "metadata": {},
   "outputs": [],
   "source": [
    "# Create project\n",
    "project_id = create_project(f\"demo {randint(0, 1000)}\", my_jwt)['id']\n",
    "print(project_id)"
   ]
  },
  {
   "cell_type": "code",
   "execution_count": null,
   "id": "bdb93ecf",
   "metadata": {},
   "outputs": [],
   "source": [
    "# Get AWS S3 credentials from pix4d endpoint\n",
    "s3_creds = project_s3_creds(project_id, my_jwt)\n",
    "print(s3_creds)"
   ]
  },
  {
   "cell_type": "code",
   "execution_count": null,
   "id": "011511ee",
   "metadata": {
    "lines_to_next_cell": 2
   },
   "outputs": [],
   "source": [
    "# Create service client at s3.\n",
    "# TO DO: learn aws s3 api\n",
    "s3_client = boto3.client(\"s3\",\n",
    "                          aws_access_key_id=s3_creds[\"access_key\"],\n",
    "                          aws_secret_access_key=s3_creds[\"secret_key\"],\n",
    "                          aws_session_token=s3_creds[\"session_token\"])"
   ]
  },
  {
   "cell_type": "code",
   "execution_count": null,
   "id": "41ef7cdd",
   "metadata": {},
   "outputs": [],
   "source": [
    "# Uploading imanges\n",
    "keys = []\n",
    "images = list(Path(\"images/\").glob(\"*.JPG\"))    # \"glob\",short for global, expands *.\n",
    "                                                # Path().glob() returns generator (it's like os.walk).\n",
    "with ProgressBar(max_value=len(images)) as pbar:\n",
    "  for i, image in enumerate(images):\n",
    "    k = str(Path(s3_creds[\"key\"]) / Path(image).name)  # \"/\" creates child path between pathlib.Path obj. \n",
    "                                                      # 'key' is bath-path like \"user-199.../project-883349\"\n",
    "    # Add an object to a bucket\n",
    "    s3_client.put_object(\n",
    "      Bucket=s3_creds[\"bucket\"], \n",
    "      Key=k, \n",
    "      Body=Path(image).read_bytes(),  # Path().read_byte() retur s binary object\n",
    "      ACL=\"bucket-owner-full-control\" # Access Control List\n",
    "    )\n",
    "    keys.append(k)\n",
    "    pbar.update(i)"
   ]
  },
  {
   "cell_type": "code",
   "execution_count": null,
   "id": "d9250b6e",
   "metadata": {
    "lines_to_next_cell": 2
   },
   "outputs": [],
   "source": [
    "print(keys)"
   ]
  },
  {
   "cell_type": "code",
   "execution_count": null,
   "id": "e2e655bd",
   "metadata": {
    "lines_to_next_cell": 2
   },
   "outputs": [],
   "source": [
    "# Register images\n",
    "ret_register = register_images(project_id, my_jwt, keys)\n",
    "print(ret_register)"
   ]
  },
  {
   "cell_type": "code",
   "execution_count": null,
   "id": "a93c9e1c",
   "metadata": {
    "lines_to_next_cell": 2
   },
   "outputs": [],
   "source": [
    "# Start processing\n",
    "ret_start = start_processing(project_id, my_jwt)\n",
    "print(ret_start)"
   ]
  },
  {
   "cell_type": "code",
   "execution_count": null,
   "id": "2f755d2a",
   "metadata": {},
   "outputs": [],
   "source": [
    "# Check process status\n",
    "print(get_project(project_id, my_jwt)['public_status'])"
   ]
  }
 ],
 "metadata": {
  "jupytext": {
   "cell_metadata_filter": "-all",
   "main_language": "python",
   "notebook_metadata_filter": "-all"
  }
 },
 "nbformat": 4,
 "nbformat_minor": 5
}
