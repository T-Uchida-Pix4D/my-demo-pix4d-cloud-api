{
 "cells": [
  {
   "cell_type": "code",
   "execution_count": null,
   "id": "473fe3e7",
   "metadata": {},
   "outputs": [],
   "source": [
    "import os\n",
    "import boto3\n",
    "from pathlib import Path\n",
    "from IPython.display import Image\n",
    "from common.pix4d_libs import get_jwt, get_outputs, project_s3_creds, get_s3_client\n",
    "import json"
   ]
  },
  {
   "cell_type": "code",
   "execution_count": null,
   "id": "1f608c4e",
   "metadata": {
    "lines_to_next_cell": 2
   },
   "outputs": [],
   "source": [
    "PIX4D_CLIENT_ID = os.environ['PIX4D_CLIENT_ID']\n",
    "PIX4D_CLIENT_SECRET = os.environ['PIX4D_CLIENT_SECRET']\n",
    "assert PIX4D_CLIENT_ID\n",
    "assert PIX4D_CLIENT_SECRET"
   ]
  },
  {
   "cell_type": "code",
   "execution_count": null,
   "id": "b2ed5b66",
   "metadata": {
    "lines_to_next_cell": 2
   },
   "outputs": [],
   "source": [
    "# Get access token\n",
    "my_jwt = get_jwt(PIX4D_CLIENT_ID, PIX4D_CLIENT_SECRET)"
   ]
  },
  {
   "cell_type": "code",
   "execution_count": null,
   "id": "7c3e5e07",
   "metadata": {
    "lines_to_next_cell": 2
   },
   "outputs": [],
   "source": [
    "# Demo data from https://cloud.pix4d.com/dataset/256164/map?shareToken=97a07d231fbc47b1b105d6cc7bcab0a4\n",
    "project_id = 256164"
   ]
  },
  {
   "cell_type": "code",
   "execution_count": null,
   "id": "df8e778e",
   "metadata": {
    "lines_to_next_cell": 2
   },
   "outputs": [],
   "source": [
    "# You can access your own projects without a share token\n",
    "project_share_token = \"97a07d231fbc47b1b105d6cc7bcab0a4\""
   ]
  },
  {
   "cell_type": "code",
   "execution_count": null,
   "id": "ffdda521",
   "metadata": {
    "lines_to_next_cell": 2
   },
   "outputs": [],
   "source": [
    "# Get project data\n",
    "outputs = get_outputs(project_id, my_jwt, share_token=project_share_token)\n",
    "print(json.dumps(outputs, indent=4))"
   ]
  },
  {
   "cell_type": "code",
   "execution_count": null,
   "id": "784d9d2c",
   "metadata": {
    "lines_to_next_cell": 2
   },
   "outputs": [],
   "source": [
    "# What is ortho_thumb? ortho_thumb not listed in API doc. Can there be more than one ortho_thumb in outputs data?\n",
    "# https://developer.pix4d.com/cloud-api/index.html#tag/How-to-retrieve-inputs-outputs-and-reports\n",
    "ortho_thumb = [i for i in outputs['outputs'] if i['result_type'] == 'ortho' and i['output_type'] == 'ortho_thumb']\n",
    "if ortho_thumb:\n",
    "  ortho_thumb = ortho_thumb[0]\n",
    "else:\n",
    "  print('Failed to find ortho')"
   ]
  },
  {
   "cell_type": "code",
   "execution_count": null,
   "id": "8901cc11",
   "metadata": {
    "lines_to_next_cell": 2
   },
   "outputs": [],
   "source": [
    "# Get aws s3 credentials\n",
    "s3_creds = project_s3_creds(project_id, my_jwt, share_token=project_share_token)"
   ]
  },
  {
   "cell_type": "code",
   "execution_count": null,
   "id": "4e679171",
   "metadata": {
    "lines_to_next_cell": 2
   },
   "outputs": [],
   "source": [
    "# Get s3 object\n",
    "s3_client = get_s3_client(project_id, my_jwt, share_token=project_share_token)"
   ]
  },
  {
   "cell_type": "code",
   "execution_count": null,
   "id": "dd5db5ec",
   "metadata": {
    "lines_to_next_cell": 2
   },
   "outputs": [],
   "source": [
    "# Get ortho thumbnail\n",
    "local_file_name = 'ortho_thumb.png'\n",
    "s3_client.download_file(ortho_thumb['s3_bucket'], ortho_thumb['s3_key'], local_file_name)"
   ]
  },
  {
   "cell_type": "code",
   "execution_count": null,
   "id": "40303674",
   "metadata": {},
   "outputs": [],
   "source": [
    "# Display thumnail image\n",
    "Image(local_file_name)"
   ]
  }
 ],
 "metadata": {
  "jupytext": {
   "cell_metadata_filter": "-all",
   "main_language": "python",
   "notebook_metadata_filter": "-all"
  },
  "kernelspec": {
   "display_name": "Python 3 (ipykernel)",
   "language": "python",
   "name": "python3"
  },
  "language_info": {
   "codemirror_mode": {
    "name": "ipython",
    "version": 3
   },
   "file_extension": ".py",
   "mimetype": "text/x-python",
   "name": "python",
   "nbconvert_exporter": "python",
   "pygments_lexer": "ipython3",
   "version": "3.9.10"
  }
 },
 "nbformat": 4,
 "nbformat_minor": 5
}
